{
  "nbformat": 4,
  "nbformat_minor": 0,
  "metadata": {
    "colab": {
      "name": "SA.ipynb",
      "provenance": [],
      "collapsed_sections": []
    },
    "kernelspec": {
      "name": "python3",
      "display_name": "Python 3"
    },
    "language_info": {
      "name": "python"
    }
  },
  "cells": [
    {
      "cell_type": "code",
      "source": [
        "from google.colab import drive\n",
        "import pandas as pd\n",
        "import numpy as np\n",
        "import random\n",
        "import math\n",
        "from itertools import permutations\n",
        "import matplotlib.pyplot as plt\n",
        "\n",
        "drive.mount('/content/drive/')\n",
        "distance = pd.read_csv('/content/drive/My Drive/colab/SA TS Problems.csv')"
      ],
      "metadata": {
        "colab": {
          "base_uri": "https://localhost:8080/"
        },
        "id": "YEZokCYmFuo_",
        "outputId": "bfdefb11-87ee-4344-dd2b-333efeb7c3c0"
      },
      "execution_count": 1,
      "outputs": [
        {
          "output_type": "stream",
          "name": "stdout",
          "text": [
            "Mounted at /content/drive/\n"
          ]
        }
      ]
    },
    {
      "cell_type": "code",
      "source": [
        "distance = distance.iloc[:,1:11]\n",
        "distance"
      ],
      "metadata": {
        "colab": {
          "base_uri": "https://localhost:8080/",
          "height": 363
        },
        "id": "5WpdYqDaHeTW",
        "outputId": "bde55508-2f41-42c8-f7b7-55126b5f1afb"
      },
      "execution_count": 2,
      "outputs": [
        {
          "output_type": "execute_result",
          "data": {
            "text/plain": [
              "      1     2     3     4     5     6     7     8     9    10\n",
              "0   NaN  64.0  78.0  66.0  59.0  53.0  85.0  79.0  67.0  69.0\n",
              "1  64.0   NaN  55.0  65.0  79.0  73.0  59.0  63.0  90.0  90.0\n",
              "2  78.0  55.0   NaN  91.0  84.0  77.0  85.0  50.0  96.0  78.0\n",
              "3  66.0  65.0  91.0   NaN  71.0  70.0  56.0  99.0  66.0  56.0\n",
              "4  59.0  79.0  84.0  71.0   NaN  73.0  65.0  90.0  76.0  53.0\n",
              "5  53.0  73.0  77.0  70.0  73.0   NaN  51.0  79.0  70.0  78.0\n",
              "6  85.0  59.0  85.0  56.0  65.0  51.0   NaN  62.0  51.0  74.0\n",
              "7  79.0  63.0  50.0  99.0  90.0  79.0  62.0   NaN  70.0  75.0\n",
              "8  67.0  90.0  96.0  66.0  76.0  70.0  51.0  70.0   NaN  64.0\n",
              "9  69.0  90.0  78.0  56.0  53.0  78.0  74.0  75.0  64.0   NaN"
            ],
            "text/html": [
              "\n",
              "  <div id=\"df-abda5c16-f205-49dd-ab31-bdba7cafdac7\">\n",
              "    <div class=\"colab-df-container\">\n",
              "      <div>\n",
              "<style scoped>\n",
              "    .dataframe tbody tr th:only-of-type {\n",
              "        vertical-align: middle;\n",
              "    }\n",
              "\n",
              "    .dataframe tbody tr th {\n",
              "        vertical-align: top;\n",
              "    }\n",
              "\n",
              "    .dataframe thead th {\n",
              "        text-align: right;\n",
              "    }\n",
              "</style>\n",
              "<table border=\"1\" class=\"dataframe\">\n",
              "  <thead>\n",
              "    <tr style=\"text-align: right;\">\n",
              "      <th></th>\n",
              "      <th>1</th>\n",
              "      <th>2</th>\n",
              "      <th>3</th>\n",
              "      <th>4</th>\n",
              "      <th>5</th>\n",
              "      <th>6</th>\n",
              "      <th>7</th>\n",
              "      <th>8</th>\n",
              "      <th>9</th>\n",
              "      <th>10</th>\n",
              "    </tr>\n",
              "  </thead>\n",
              "  <tbody>\n",
              "    <tr>\n",
              "      <th>0</th>\n",
              "      <td>NaN</td>\n",
              "      <td>64.0</td>\n",
              "      <td>78.0</td>\n",
              "      <td>66.0</td>\n",
              "      <td>59.0</td>\n",
              "      <td>53.0</td>\n",
              "      <td>85.0</td>\n",
              "      <td>79.0</td>\n",
              "      <td>67.0</td>\n",
              "      <td>69.0</td>\n",
              "    </tr>\n",
              "    <tr>\n",
              "      <th>1</th>\n",
              "      <td>64.0</td>\n",
              "      <td>NaN</td>\n",
              "      <td>55.0</td>\n",
              "      <td>65.0</td>\n",
              "      <td>79.0</td>\n",
              "      <td>73.0</td>\n",
              "      <td>59.0</td>\n",
              "      <td>63.0</td>\n",
              "      <td>90.0</td>\n",
              "      <td>90.0</td>\n",
              "    </tr>\n",
              "    <tr>\n",
              "      <th>2</th>\n",
              "      <td>78.0</td>\n",
              "      <td>55.0</td>\n",
              "      <td>NaN</td>\n",
              "      <td>91.0</td>\n",
              "      <td>84.0</td>\n",
              "      <td>77.0</td>\n",
              "      <td>85.0</td>\n",
              "      <td>50.0</td>\n",
              "      <td>96.0</td>\n",
              "      <td>78.0</td>\n",
              "    </tr>\n",
              "    <tr>\n",
              "      <th>3</th>\n",
              "      <td>66.0</td>\n",
              "      <td>65.0</td>\n",
              "      <td>91.0</td>\n",
              "      <td>NaN</td>\n",
              "      <td>71.0</td>\n",
              "      <td>70.0</td>\n",
              "      <td>56.0</td>\n",
              "      <td>99.0</td>\n",
              "      <td>66.0</td>\n",
              "      <td>56.0</td>\n",
              "    </tr>\n",
              "    <tr>\n",
              "      <th>4</th>\n",
              "      <td>59.0</td>\n",
              "      <td>79.0</td>\n",
              "      <td>84.0</td>\n",
              "      <td>71.0</td>\n",
              "      <td>NaN</td>\n",
              "      <td>73.0</td>\n",
              "      <td>65.0</td>\n",
              "      <td>90.0</td>\n",
              "      <td>76.0</td>\n",
              "      <td>53.0</td>\n",
              "    </tr>\n",
              "    <tr>\n",
              "      <th>5</th>\n",
              "      <td>53.0</td>\n",
              "      <td>73.0</td>\n",
              "      <td>77.0</td>\n",
              "      <td>70.0</td>\n",
              "      <td>73.0</td>\n",
              "      <td>NaN</td>\n",
              "      <td>51.0</td>\n",
              "      <td>79.0</td>\n",
              "      <td>70.0</td>\n",
              "      <td>78.0</td>\n",
              "    </tr>\n",
              "    <tr>\n",
              "      <th>6</th>\n",
              "      <td>85.0</td>\n",
              "      <td>59.0</td>\n",
              "      <td>85.0</td>\n",
              "      <td>56.0</td>\n",
              "      <td>65.0</td>\n",
              "      <td>51.0</td>\n",
              "      <td>NaN</td>\n",
              "      <td>62.0</td>\n",
              "      <td>51.0</td>\n",
              "      <td>74.0</td>\n",
              "    </tr>\n",
              "    <tr>\n",
              "      <th>7</th>\n",
              "      <td>79.0</td>\n",
              "      <td>63.0</td>\n",
              "      <td>50.0</td>\n",
              "      <td>99.0</td>\n",
              "      <td>90.0</td>\n",
              "      <td>79.0</td>\n",
              "      <td>62.0</td>\n",
              "      <td>NaN</td>\n",
              "      <td>70.0</td>\n",
              "      <td>75.0</td>\n",
              "    </tr>\n",
              "    <tr>\n",
              "      <th>8</th>\n",
              "      <td>67.0</td>\n",
              "      <td>90.0</td>\n",
              "      <td>96.0</td>\n",
              "      <td>66.0</td>\n",
              "      <td>76.0</td>\n",
              "      <td>70.0</td>\n",
              "      <td>51.0</td>\n",
              "      <td>70.0</td>\n",
              "      <td>NaN</td>\n",
              "      <td>64.0</td>\n",
              "    </tr>\n",
              "    <tr>\n",
              "      <th>9</th>\n",
              "      <td>69.0</td>\n",
              "      <td>90.0</td>\n",
              "      <td>78.0</td>\n",
              "      <td>56.0</td>\n",
              "      <td>53.0</td>\n",
              "      <td>78.0</td>\n",
              "      <td>74.0</td>\n",
              "      <td>75.0</td>\n",
              "      <td>64.0</td>\n",
              "      <td>NaN</td>\n",
              "    </tr>\n",
              "  </tbody>\n",
              "</table>\n",
              "</div>\n",
              "      <button class=\"colab-df-convert\" onclick=\"convertToInteractive('df-abda5c16-f205-49dd-ab31-bdba7cafdac7')\"\n",
              "              title=\"Convert this dataframe to an interactive table.\"\n",
              "              style=\"display:none;\">\n",
              "        \n",
              "  <svg xmlns=\"http://www.w3.org/2000/svg\" height=\"24px\"viewBox=\"0 0 24 24\"\n",
              "       width=\"24px\">\n",
              "    <path d=\"M0 0h24v24H0V0z\" fill=\"none\"/>\n",
              "    <path d=\"M18.56 5.44l.94 2.06.94-2.06 2.06-.94-2.06-.94-.94-2.06-.94 2.06-2.06.94zm-11 1L8.5 8.5l.94-2.06 2.06-.94-2.06-.94L8.5 2.5l-.94 2.06-2.06.94zm10 10l.94 2.06.94-2.06 2.06-.94-2.06-.94-.94-2.06-.94 2.06-2.06.94z\"/><path d=\"M17.41 7.96l-1.37-1.37c-.4-.4-.92-.59-1.43-.59-.52 0-1.04.2-1.43.59L10.3 9.45l-7.72 7.72c-.78.78-.78 2.05 0 2.83L4 21.41c.39.39.9.59 1.41.59.51 0 1.02-.2 1.41-.59l7.78-7.78 2.81-2.81c.8-.78.8-2.07 0-2.86zM5.41 20L4 18.59l7.72-7.72 1.47 1.35L5.41 20z\"/>\n",
              "  </svg>\n",
              "      </button>\n",
              "      \n",
              "  <style>\n",
              "    .colab-df-container {\n",
              "      display:flex;\n",
              "      flex-wrap:wrap;\n",
              "      gap: 12px;\n",
              "    }\n",
              "\n",
              "    .colab-df-convert {\n",
              "      background-color: #E8F0FE;\n",
              "      border: none;\n",
              "      border-radius: 50%;\n",
              "      cursor: pointer;\n",
              "      display: none;\n",
              "      fill: #1967D2;\n",
              "      height: 32px;\n",
              "      padding: 0 0 0 0;\n",
              "      width: 32px;\n",
              "    }\n",
              "\n",
              "    .colab-df-convert:hover {\n",
              "      background-color: #E2EBFA;\n",
              "      box-shadow: 0px 1px 2px rgba(60, 64, 67, 0.3), 0px 1px 3px 1px rgba(60, 64, 67, 0.15);\n",
              "      fill: #174EA6;\n",
              "    }\n",
              "\n",
              "    [theme=dark] .colab-df-convert {\n",
              "      background-color: #3B4455;\n",
              "      fill: #D2E3FC;\n",
              "    }\n",
              "\n",
              "    [theme=dark] .colab-df-convert:hover {\n",
              "      background-color: #434B5C;\n",
              "      box-shadow: 0px 1px 3px 1px rgba(0, 0, 0, 0.15);\n",
              "      filter: drop-shadow(0px 1px 2px rgba(0, 0, 0, 0.3));\n",
              "      fill: #FFFFFF;\n",
              "    }\n",
              "  </style>\n",
              "\n",
              "      <script>\n",
              "        const buttonEl =\n",
              "          document.querySelector('#df-abda5c16-f205-49dd-ab31-bdba7cafdac7 button.colab-df-convert');\n",
              "        buttonEl.style.display =\n",
              "          google.colab.kernel.accessAllowed ? 'block' : 'none';\n",
              "\n",
              "        async function convertToInteractive(key) {\n",
              "          const element = document.querySelector('#df-abda5c16-f205-49dd-ab31-bdba7cafdac7');\n",
              "          const dataTable =\n",
              "            await google.colab.kernel.invokeFunction('convertToInteractive',\n",
              "                                                     [key], {});\n",
              "          if (!dataTable) return;\n",
              "\n",
              "          const docLinkHtml = 'Like what you see? Visit the ' +\n",
              "            '<a target=\"_blank\" href=https://colab.research.google.com/notebooks/data_table.ipynb>data table notebook</a>'\n",
              "            + ' to learn more about interactive tables.';\n",
              "          element.innerHTML = '';\n",
              "          dataTable['output_type'] = 'display_data';\n",
              "          await google.colab.output.renderOutput(dataTable, element);\n",
              "          const docLink = document.createElement('div');\n",
              "          docLink.innerHTML = docLinkHtml;\n",
              "          element.appendChild(docLink);\n",
              "        }\n",
              "      </script>\n",
              "    </div>\n",
              "  </div>\n",
              "  "
            ]
          },
          "metadata": {},
          "execution_count": 2
        }
      ]
    },
    {
      "cell_type": "code",
      "source": [
        "def objective_value(route):\n",
        "  total_distance = 0\n",
        "  for i in range(len(route)-1):\n",
        "    city1 = route[i]\n",
        "    city2 = route[i+1]\n",
        "    total_distance += distance.iloc[city1,city2]\n",
        "  return total_distance"
      ],
      "metadata": {
        "id": "I8YhLR94MTLg"
      },
      "execution_count": 3,
      "outputs": []
    },
    {
      "cell_type": "code",
      "source": [
        "def initial_route():\n",
        "  route = random.sample(range(0, 10), 10)\n",
        "  route.append(route[0])\n",
        "  return route"
      ],
      "metadata": {
        "id": "2NuweXFuKa6g"
      },
      "execution_count": 4,
      "outputs": []
    },
    {
      "cell_type": "code",
      "source": [
        "def exhaustive():\n",
        "  ini_pop_list = [0,1,2,3,4,5,6,7,8,9]\n",
        "  all_route = list(permutations(ini_pop_list)) #generate all permutation\n",
        "  all_distance = []\n",
        "\n",
        "  for i in range(len(all_route)): #add the last city back for all routes\n",
        "    all_route[i] = all_route[i] + (all_route[i][0],)\n",
        "\n",
        "  for i in range(len(all_route)): #caculate the all distance for all routes\n",
        "    all_distance.append(objective_value(all_route[i]))\n",
        "\n",
        "  shortest_route = all_route[np.argmin(all_distance)] \n",
        "  shortest_distance = np.min(all_distance) \n",
        "  print('shortest_route :',shortest_route)\n",
        "  print('shortest_distance :',shortest_distance)\n"
      ],
      "metadata": {
        "id": "MSuK3JYnbp8s"
      },
      "execution_count": 5,
      "outputs": []
    },
    {
      "cell_type": "code",
      "source": [
        "exhaustive()"
      ],
      "metadata": {
        "colab": {
          "base_uri": "https://localhost:8080/"
        },
        "id": "hM5_nntvcrvG",
        "outputId": "4e59601b-bec7-4b1d-e2f3-007e69e5c333"
      },
      "execution_count": null,
      "outputs": [
        {
          "output_type": "stream",
          "name": "stdout",
          "text": [
            "shortest_route : (0, 4, 9, 3, 1, 2, 7, 8, 6, 5, 0)\n",
            "shortest_distance : 563.0\n"
          ]
        }
      ]
    },
    {
      "cell_type": "code",
      "source": [
        "def inversion(route): #Randomly select 2 adjacent cities to swap\n",
        "  route_copy = route.copy()\n",
        "  place = random.randint(0,len(route_copy)-2)\n",
        "  c1 = route_copy[place]\n",
        "  c2 = route_copy[place+1]\n",
        "  route_copy[place] = c2\n",
        "  route_copy[place+1] = c1\n",
        "  if route_copy[0] != route_copy[-1]: #Make sure the final city is the same as the original\n",
        "    route_copy[-1] = route_copy[0]\n",
        "  return route_copy"
      ],
      "metadata": {
        "id": "sW8hXHN_aIu1"
      },
      "execution_count": 6,
      "outputs": []
    },
    {
      "cell_type": "code",
      "source": [
        "def plot(results):\n",
        "  X = []\n",
        "  Y = []\n",
        "  for i in range(len(results)):\n",
        "    X.append(i)\n",
        "    Y.append(results[i])\n",
        "  plt.plot(X,Y)\n",
        "  plt.xlabel('Number of iteration',size = 15)\n",
        "  plt.ylabel('objective value',size = 15)\n",
        "  plt.title('SA convergence history ',size = 15)\n",
        "  plt.show()"
      ],
      "metadata": {
        "id": "8ZIFeKM9hwM8"
      },
      "execution_count": 7,
      "outputs": []
    },
    {
      "cell_type": "code",
      "source": [
        "def SA(t,final_t,cool_rate,alpha,beta):\n",
        "  route_history ,distance_history= [],[]\n",
        "  current_route = initial_route() # initial solution\n",
        "  current_distance = objective_value(current_route)\n",
        "  t0 = 1000 #initial temperature\n",
        "  while t > final_t:\n",
        "    niter = int(alpha*(t0-t)+beta)\n",
        "    for time in range(niter):\n",
        "      new_route = inversion(current_route) #do inversion\n",
        "      new_distance = objective_value(new_route)\n",
        "      if new_distance < current_distance : \n",
        "        current_route = new_route # always accept better moves\n",
        "        current_distance = new_distance\n",
        "      else: \n",
        "        p = np.exp(-(new_distance-current_distance)/t)\n",
        "        if random.random() < p: # may accept worse moves\n",
        "          current_route = new_route\n",
        "          current_distance = new_distance\n",
        "    route_history.append(current_route) # record every route\n",
        "    distance_history.append(current_distance) # record every distance\n",
        "    t = t * cool_rate # update the temperature\n",
        "\n",
        "  print('optimal route :',route_history[-1])\n",
        "  print('optimal distance :',distance_history[-1])\n",
        "  plot(distance_history)"
      ],
      "metadata": {
        "id": "BW5pnduJWtgx"
      },
      "execution_count": 8,
      "outputs": []
    },
    {
      "cell_type": "code",
      "source": [
        "final_t=0.1\n",
        "t=500\n",
        "cool_rate = 0.95\n",
        "alpha,beta = 0.2,0.1\n",
        "SA(t,final_t,cool_rate,alpha,beta)"
      ],
      "metadata": {
        "id": "o9GbkbTeSn9e",
        "colab": {
          "base_uri": "https://localhost:8080/",
          "height": 337
        },
        "outputId": "5adf239d-e15d-4616-d756-e74e21039408"
      },
      "execution_count": 40,
      "outputs": [
        {
          "output_type": "stream",
          "name": "stdout",
          "text": [
            "optimal route : [0, 5, 6, 8, 7, 2, 1, 3, 9, 4, 0]\n",
            "optimal distance : 563.0\n"
          ]
        },
        {
          "output_type": "display_data",
          "data": {
            "text/plain": [
              "<Figure size 432x288 with 1 Axes>"
            ],
            "image/png": "[encoded data removed]"
          },
          "metadata": {
            "needs_background": "light"
          }
        }
      ]
    }
  ]
}