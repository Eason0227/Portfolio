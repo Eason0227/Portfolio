{
  "nbformat": 4,
  "nbformat_minor": 0,
  "metadata": {
    "colab": {
      "name": "PSO2.ipynb",
      "provenance": [],
      "collapsed_sections": []
    },
    "kernelspec": {
      "name": "python3",
      "display_name": "Python 3"
    },
    "language_info": {
      "name": "python"
    }
  },
  "cells": [
    {
      "cell_type": "code",
      "execution_count": null,
      "metadata": {
        "id": "dAwcBVDd6Brk"
      },
      "outputs": [],
      "source": [
        "import math\n",
        "import random\n",
        "import numpy as np\n",
        "import matplotlib.pyplot as plt\n",
        "\n",
        "def obj(x,y): #objective function\n",
        "  value = -(math.cos(math.pi*y))- math.exp(-math.pi*((x-0.5)**2))*(math.sin(math.pi*x)**2)\n",
        "  return value\n",
        "\n",
        "def ini_population(sol_num): #initial population\n",
        "  population = [] \n",
        "  for i in range(sol_num):\n",
        "    tmp1 = []  \n",
        "    tmp1.append(random.uniform(-1,2)) #get the x by generate random number between -1 and 2\n",
        "    tmp1.append(random.uniform(4,6))#get the y by generate random number between 4 and 6\n",
        "    population.append(tmp1) \n",
        "  return population"
      ]
    },
    {
      "cell_type": "code",
      "source": [
        "'''Calculate the fitness function value'''\n",
        "def fitness(population,iter):\n",
        "  fitness = []\n",
        "  #put x y into objective function with penalty and caculate fitness value\n",
        "  for i in range(len(population)): \n",
        "    value = obj(population[i][0],population[i][1])+((0.5*iter)**2)*(abs(5-(population[i][0]+population[i][1]))**2)\n",
        "    #value = obj(population[i][0],population[i][1])+5-(population[i][0]+population[i][1])\n",
        "    fitness.append(value)\n",
        "  return fitness"
      ],
      "metadata": {
        "id": "RCN6u5y96K7V"
      },
      "execution_count": null,
      "outputs": []
    },
    {
      "cell_type": "code",
      "source": [
        "def update(population,c1,c2,w,generation,p_crazy):\n",
        "  mv=np.array([0.5,0.5])\n",
        "  x_range = np.array([3,2])\n",
        "  v_bound= mv*x_range\n",
        "  x_v_upper_bound = v_bound[0] #1.5\n",
        "  x_v_lower_bound = -v_bound[0] #-1.5\n",
        "  y_v_upper_bound = v_bound[1] #1\n",
        "  y_v_lower_bound = -v_bound[1] #-1\n",
        "\n",
        "  bound=[[-1,4],[2,6]]\n",
        "  dimension = 2\n",
        "  size = len(population)\n",
        "\n",
        "  velocity = np.zeros((size, dimension)) # velocities of all particles\n",
        "  for i in range(size):\n",
        "    velocity[i][0] = random.uniform(x_v_lower_bound,x_v_upper_bound)\n",
        "    velocity[i][1] = random.uniform(y_v_lower_bound,y_v_upper_bound)\n",
        "  \n",
        "  population = np.array(population) # initial population\n",
        "  pbest = population  # The optimal position of each particle\n",
        "  gbest = np.array([2,5])  # The best location in the all particle\n",
        "\n",
        "  for i in range(size):\n",
        "    #update velocity\n",
        "    velocity[i] = w*velocity[i] + c1*random.uniform(0,1)*(pbest[i]-population[i])+ c2*random.uniform(0,1)*(gbest-population[i])\n",
        "    #craziness\n",
        "    if random.uniform(0,1) < p_crazy: \n",
        "      velocity[i] = v_bound * random.uniform(0,1)\n",
        "\n",
        "    # velocity limit\n",
        "    if velocity[i][0] > x_v_upper_bound :\n",
        "      velocity[i][0]= x_v_upper_bound\n",
        "\n",
        "    if velocity[i][0] < x_v_lower_bound :\n",
        "      velocity[i][0]= x_v_lower_bound\n",
        "\n",
        "    if velocity[i][1] > y_v_upper_bound :\n",
        "      velocity[i][1]= y_v_upper_bound\n",
        "\n",
        "    if velocity[i][1] < y_v_lower_bound :\n",
        "      velocity[i][1]= y_v_lower_bound\n",
        "\n",
        "    #update location  \n",
        "    population[i]=population[i]+velocity[i]\n",
        "    #location limit\n",
        "    for j in range(dimension): \n",
        "      if population[i][j] > bound[1][j]: #location upper bound\n",
        "        population[i][j] = bound[1][j] \n",
        "      elif population[i][j] < bound[0][j]: #location lower bound\n",
        "        population[i][j] = bound[0][j]\n",
        "    #update pbest\n",
        "    if fitness(population,generation)[i] < fitness(pbest,generation)[i]: \n",
        "      pbest[i] = population[i].copy()\n",
        "    #update gbest\n",
        "    if fitness(population,generation)[i] < obj(gbest[0],gbest[1])+((0.5*generation)**2)*(abs(5-(gbest[0]+gbest[1]))**2): \n",
        "      gbest = population[i].copy()\n",
        "\n",
        "  return population"
      ],
      "metadata": {
        "id": "zqrp__lvjPJN"
      },
      "execution_count": null,
      "outputs": []
    },
    {
      "cell_type": "code",
      "source": [
        "'''Find the best fitness and the corresponding x, y in the current Population'''\n",
        "def best(population):\n",
        "  pop_len = len(population)\n",
        "  best_x_y,fitness_value = [],[]\n",
        "  best_fitness =100\n",
        "\n",
        "  for i in range(pop_len):\n",
        "    fitness_value.append( obj(population[i][0],population[i][1] ) )#put x and y into objective function\n",
        "\n",
        "  for i in range(pop_len):\n",
        "    if (fitness_value[i] < best_fitness): #Compare the fitness of each set of chromosomes to the best value\n",
        "    #If the fitness of this set of chromosomes < optimal value, replace the optimal solution,and x,y\n",
        "      best_fitness = fitness_value[i]\n",
        "      best_x_y = population[i]\n",
        "\n",
        "  return best_x_y,best_fitness"
      ],
      "metadata": {
        "id": "D_d8q8QxdGDn"
      },
      "execution_count": null,
      "outputs": []
    },
    {
      "cell_type": "code",
      "source": [
        "def plot(results):\n",
        "  X = []\n",
        "  Y = []\n",
        "  for i in range(iter_num):\n",
        "    X.append(i)\n",
        "    Y.append(results[i])\n",
        "  plt.plot(X,Y)\n",
        "  plt.xlabel('Number of iteration',size = 15)\n",
        "  plt.ylabel('fitness value',size = 15)\n",
        "  plt.title('PSO convergence history',size = 15)\n",
        "  plt.show()"
      ],
      "metadata": {
        "id": "dhT3Wdc4FupA"
      },
      "execution_count": null,
      "outputs": []
    },
    {
      "cell_type": "code",
      "source": [
        "def PSO(iter_num,population_size,c1,c2,w,p_crazy):\n",
        "  population = ini_population(population_size)\n",
        "  best_x_y = np.array([0,0])\n",
        "  best_fitness = 100\n",
        "  results_fit,results_x_y = [],[]\n",
        "\n",
        "  for i in range(iter_num):\n",
        "    new_pop = update(population,c1,c2,w,i,p_crazy)\n",
        "    current_x_y,current_fitness = best(new_pop) #best x y and best objective value\n",
        "    # Compared with the previous optimal fitness function value, \n",
        "    if current_fitness < best_fitness:\n",
        "      best_fitness = current_fitness\n",
        "      best_x_y = current_x_y\n",
        "    \n",
        "    print('iteration is :',i,'Best x and y:',best_x_y,'Best fitness',best_fitness)\n",
        "    results_fit.append(best_fitness) # save fitness in each iteration\n",
        "    results_x_y.append(best_x_y) # sava x and y in each iteration\n",
        "\n",
        "  print('Final x and y :',results_x_y[-1])\n",
        "  print('Final objective value :',best_fitness)\n",
        "  plot(results_fit)\n",
        "  return best_fitness"
      ],
      "metadata": {
        "id": "y8EmjDrZddF8"
      },
      "execution_count": null,
      "outputs": []
    },
    {
      "cell_type": "code",
      "source": [
        "iter_num=100\n",
        "c1,c2,w,p_crazy = 2,2,0.8,0.1\n",
        "population_size = 100\n",
        "PSO(iter_num,population_size,c1,c2,w,p_crazy)"
      ],
      "metadata": {
        "colab": {
          "base_uri": "https://localhost:8080/",
          "height": 1000
        },
        "id": "-rMoKAC8nzWD",
        "outputId": "937850bf-dd30-4be6-90b7-14feb35d3741"
      },
      "execution_count": null,
      "outputs": [
        {
          "output_type": "stream",
          "name": "stdout",
          "text": [
            "iteration is : 0 Best x and y: [0.48642269 6.        ] Best fitness -1.9976037955222425\n",
            "iteration is : 1 Best x and y: [0.48642269 6.        ] Best fitness -1.9976037955222425\n",
            "iteration is : 2 Best x and y: [0.48642269 6.        ] Best fitness -1.9976037955222425\n",
            "iteration is : 3 Best x and y: [0.48642269 6.        ] Best fitness -1.9976037955222425\n",
            "iteration is : 4 Best x and y: [0.48642269 6.        ] Best fitness -1.9976037955222425\n",
            "iteration is : 5 Best x and y: [0.48642269 6.        ] Best fitness -1.9976037955222425\n",
            "iteration is : 6 Best x and y: [0.48642269 6.        ] Best fitness -1.9976037955222425\n",
            "iteration is : 7 Best x and y: [0.48642269 6.        ] Best fitness -1.9976037955222425\n",
            "iteration is : 8 Best x and y: [0.48826454 6.        ] Best fitness -1.9982093827433751\n",
            "iteration is : 9 Best x and y: [0.48826454 6.        ] Best fitness -1.9982093827433751\n",
            "iteration is : 10 Best x and y: [0.48826454 6.        ] Best fitness -1.9982093827433751\n",
            "iteration is : 11 Best x and y: [0.48826454 6.        ] Best fitness -1.9982093827433751\n",
            "iteration is : 12 Best x and y: [0.48826454 6.        ] Best fitness -1.9982093827433751\n",
            "iteration is : 13 Best x and y: [0.48826454 6.        ] Best fitness -1.9982093827433751\n",
            "iteration is : 14 Best x and y: [0.48826454 6.        ] Best fitness -1.9982093827433751\n",
            "iteration is : 15 Best x and y: [0.50568414 4.        ] Best fitness -1.9995796864042776\n",
            "iteration is : 16 Best x and y: [0.50568414 4.        ] Best fitness -1.9995796864042776\n",
            "iteration is : 17 Best x and y: [0.50568414 4.        ] Best fitness -1.9995796864042776\n",
            "iteration is : 18 Best x and y: [0.50568414 4.        ] Best fitness -1.9995796864042776\n",
            "iteration is : 19 Best x and y: [0.50568414 4.        ] Best fitness -1.9995796864042776\n",
            "iteration is : 20 Best x and y: [0.50568414 4.        ] Best fitness -1.9995796864042776\n",
            "iteration is : 21 Best x and y: [0.50568414 4.        ] Best fitness -1.9995796864042776\n",
            "iteration is : 22 Best x and y: [0.50568414 4.        ] Best fitness -1.9995796864042776\n",
            "iteration is : 23 Best x and y: [0.50568414 4.        ] Best fitness -1.9995796864042776\n",
            "iteration is : 24 Best x and y: [0.50568414 4.        ] Best fitness -1.9995796864042776\n",
            "iteration is : 25 Best x and y: [0.50568414 4.        ] Best fitness -1.9995796864042776\n",
            "iteration is : 26 Best x and y: [0.50568414 4.        ] Best fitness -1.9995796864042776\n",
            "iteration is : 27 Best x and y: [0.50568414 4.        ] Best fitness -1.9995796864042776\n",
            "iteration is : 28 Best x and y: [0.50568414 4.        ] Best fitness -1.9995796864042776\n",
            "iteration is : 29 Best x and y: [0.50568414 4.        ] Best fitness -1.9995796864042776\n",
            "iteration is : 30 Best x and y: [0.50568414 4.        ] Best fitness -1.9995796864042776\n",
            "iteration is : 31 Best x and y: [0.50568414 4.        ] Best fitness -1.9995796864042776\n",
            "iteration is : 32 Best x and y: [0.50568414 4.        ] Best fitness -1.9995796864042776\n",
            "iteration is : 33 Best x and y: [0.50568414 4.        ] Best fitness -1.9995796864042776\n",
            "iteration is : 34 Best x and y: [0.50568414 4.        ] Best fitness -1.9995796864042776\n",
            "iteration is : 35 Best x and y: [0.50568414 4.        ] Best fitness -1.9995796864042776\n",
            "iteration is : 36 Best x and y: [0.50568414 4.        ] Best fitness -1.9995796864042776\n",
            "iteration is : 37 Best x and y: [0.50568414 4.        ] Best fitness -1.9995796864042776\n",
            "iteration is : 38 Best x and y: [0.50568414 4.        ] Best fitness -1.9995796864042776\n",
            "iteration is : 39 Best x and y: [0.50568414 4.        ] Best fitness -1.9995796864042776\n",
            "iteration is : 40 Best x and y: [0.50568414 4.        ] Best fitness -1.9995796864042776\n",
            "iteration is : 41 Best x and y: [0.50568414 4.        ] Best fitness -1.9995796864042776\n",
            "iteration is : 42 Best x and y: [0.50568414 4.        ] Best fitness -1.9995796864042776\n",
            "iteration is : 43 Best x and y: [0.50568414 4.        ] Best fitness -1.9995796864042776\n",
            "iteration is : 44 Best x and y: [0.50568414 4.        ] Best fitness -1.9995796864042776\n",
            "iteration is : 45 Best x and y: [0.50568414 4.        ] Best fitness -1.9995796864042776\n",
            "iteration is : 46 Best x and y: [0.50568414 4.        ] Best fitness -1.9995796864042776\n",
            "iteration is : 47 Best x and y: [0.50568414 4.        ] Best fitness -1.9995796864042776\n",
            "iteration is : 48 Best x and y: [0.50568414 4.        ] Best fitness -1.9995796864042776\n",
            "iteration is : 49 Best x and y: [0.50568414 4.        ] Best fitness -1.9995796864042776\n",
            "iteration is : 50 Best x and y: [0.50568414 4.        ] Best fitness -1.9995796864042776\n",
            "iteration is : 51 Best x and y: [0.50568414 4.        ] Best fitness -1.9995796864042776\n",
            "iteration is : 52 Best x and y: [0.50568414 4.        ] Best fitness -1.9995796864042776\n",
            "iteration is : 53 Best x and y: [0.50568414 4.        ] Best fitness -1.9995796864042776\n",
            "iteration is : 54 Best x and y: [0.50568414 4.        ] Best fitness -1.9995796864042776\n",
            "iteration is : 55 Best x and y: [0.50568414 4.        ] Best fitness -1.9995796864042776\n",
            "iteration is : 56 Best x and y: [0.50568414 4.        ] Best fitness -1.9995796864042776\n",
            "iteration is : 57 Best x and y: [0.50568414 4.        ] Best fitness -1.9995796864042776\n",
            "iteration is : 58 Best x and y: [0.50568414 4.        ] Best fitness -1.9995796864042776\n",
            "iteration is : 59 Best x and y: [0.50568414 4.        ] Best fitness -1.9995796864042776\n",
            "iteration is : 60 Best x and y: [0.50568414 4.        ] Best fitness -1.9995796864042776\n",
            "iteration is : 61 Best x and y: [0.50568414 4.        ] Best fitness -1.9995796864042776\n",
            "iteration is : 62 Best x and y: [0.50568414 4.        ] Best fitness -1.9995796864042776\n",
            "iteration is : 63 Best x and y: [0.50568414 4.        ] Best fitness -1.9995796864042776\n",
            "iteration is : 64 Best x and y: [0.50568414 4.        ] Best fitness -1.9995796864042776\n",
            "iteration is : 65 Best x and y: [0.50568414 4.        ] Best fitness -1.9995796864042776\n",
            "iteration is : 66 Best x and y: [0.50568414 4.        ] Best fitness -1.9995796864042776\n",
            "iteration is : 67 Best x and y: [0.50568414 4.        ] Best fitness -1.9995796864042776\n",
            "iteration is : 68 Best x and y: [0.49859301 6.        ] Best fitness -1.999974242921433\n",
            "iteration is : 69 Best x and y: [0.49859301 6.        ] Best fitness -1.999974242921433\n",
            "iteration is : 70 Best x and y: [0.49859301 6.        ] Best fitness -1.999974242921433\n",
            "iteration is : 71 Best x and y: [0.49859301 6.        ] Best fitness -1.999974242921433\n",
            "iteration is : 72 Best x and y: [0.49859301 6.        ] Best fitness -1.999974242921433\n",
            "iteration is : 73 Best x and y: [0.49859301 6.        ] Best fitness -1.999974242921433\n",
            "iteration is : 74 Best x and y: [0.49859301 6.        ] Best fitness -1.999974242921433\n",
            "iteration is : 75 Best x and y: [0.49859301 6.        ] Best fitness -1.999974242921433\n",
            "iteration is : 76 Best x and y: [0.49859301 6.        ] Best fitness -1.999974242921433\n",
            "iteration is : 77 Best x and y: [0.49859301 6.        ] Best fitness -1.999974242921433\n",
            "iteration is : 78 Best x and y: [0.49859301 6.        ] Best fitness -1.999974242921433\n",
            "iteration is : 79 Best x and y: [0.49859301 6.        ] Best fitness -1.999974242921433\n",
            "iteration is : 80 Best x and y: [0.49859301 6.        ] Best fitness -1.999974242921433\n",
            "iteration is : 81 Best x and y: [0.49859301 6.        ] Best fitness -1.999974242921433\n",
            "iteration is : 82 Best x and y: [0.49859301 6.        ] Best fitness -1.999974242921433\n",
            "iteration is : 83 Best x and y: [0.49859301 6.        ] Best fitness -1.999974242921433\n",
            "iteration is : 84 Best x and y: [0.49859301 6.        ] Best fitness -1.999974242921433\n",
            "iteration is : 85 Best x and y: [0.49859301 6.        ] Best fitness -1.999974242921433\n",
            "iteration is : 86 Best x and y: [0.49859301 6.        ] Best fitness -1.999974242921433\n",
            "iteration is : 87 Best x and y: [0.49859301 6.        ] Best fitness -1.999974242921433\n",
            "iteration is : 88 Best x and y: [0.49859301 6.        ] Best fitness -1.999974242921433\n",
            "iteration is : 89 Best x and y: [0.49859301 6.        ] Best fitness -1.999974242921433\n",
            "iteration is : 90 Best x and y: [0.49859301 6.        ] Best fitness -1.999974242921433\n",
            "iteration is : 91 Best x and y: [0.49859301 6.        ] Best fitness -1.999974242921433\n",
            "iteration is : 92 Best x and y: [0.49859301 6.        ] Best fitness -1.999974242921433\n",
            "iteration is : 93 Best x and y: [0.49859301 6.        ] Best fitness -1.999974242921433\n",
            "iteration is : 94 Best x and y: [0.49859301 6.        ] Best fitness -1.999974242921433\n",
            "iteration is : 95 Best x and y: [0.49859301 6.        ] Best fitness -1.999974242921433\n",
            "iteration is : 96 Best x and y: [0.49859301 6.        ] Best fitness -1.999974242921433\n",
            "iteration is : 97 Best x and y: [0.49859301 6.        ] Best fitness -1.999974242921433\n",
            "iteration is : 98 Best x and y: [0.49859301 6.        ] Best fitness -1.999974242921433\n",
            "iteration is : 99 Best x and y: [0.49859301 6.        ] Best fitness -1.999974242921433\n",
            "Final x and y : [0.49859301 6.        ]\n",
            "Final objective value : -1.999974242921433\n"
          ]
        },
        {
          "output_type": "display_data",
          "data": {
            "text/plain": [
              "<Figure size 432x288 with 1 Axes>"
            ],
            "image/png": "[encoded data removed]"
          },
          "metadata": {
            "needs_background": "light"
          }
        },
        {
          "output_type": "execute_result",
          "data": {
            "text/plain": [
              "-1.999974242921433"
            ]
          },
          "metadata": {},
          "execution_count": 27
        }
      ]
    },
    {
      "cell_type": "code",
      "source": [
        "# run PSO 10 times \n",
        "iter_num=100\n",
        "c1,c2,w,p_crazy = 2,2,0.8,0.1\n",
        "population_size = 100\n",
        "PSO_result =[]\n",
        "\n",
        "for i in range(30):\n",
        "  result = PSO(iter_num,population_size,c1,c2,w,p_crazy)\n",
        "  PSO_result.append(result)\n",
        "  print('PSO round :',i+1,'final objective value :',result)\n",
        "\n",
        "averge_value = np.mean(PSO_result)\n",
        "std = np.std(PSO_result)\n",
        "print('averge =',averge_value ,'standard deviation',std)"
      ],
      "metadata": {
        "id": "z9pEsaU3gtGB",
        "colab": {
          "base_uri": "https://localhost:8080/"
        },
        "outputId": "4662e835-cedf-46bb-9afb-168f60151776"
      },
      "execution_count": null,
      "outputs": [
        {
          "output_type": "stream",
          "name": "stdout",
          "text": [
            "PSO round : 1 final objective value : -1.9999934601210612\n",
            "PSO round : 2 final objective value : -1.9999989506336582\n",
            "PSO round : 3 final objective value : -1.9999986844859494\n",
            "PSO round : 4 final objective value : -1.999954831583567\n",
            "PSO round : 5 final objective value : -1.9999999951562928\n",
            "PSO round : 6 final objective value : -1.9997986298280153\n",
            "PSO round : 7 final objective value : -1.9999985128862943\n",
            "PSO round : 8 final objective value : -1.9999984179347026\n",
            "PSO round : 9 final objective value : -1.999999766727265\n",
            "PSO round : 10 final objective value : -1.9999978878702482\n",
            "PSO round : 11 final objective value : -1.9999968119108908\n",
            "PSO round : 12 final objective value : -1.9999943698707745\n",
            "PSO round : 13 final objective value : -1.9999109699301727\n",
            "PSO round : 14 final objective value : -1.9999977041881545\n",
            "PSO round : 15 final objective value : -1.999961721583873\n",
            "PSO round : 16 final objective value : -1.9999985920094558\n",
            "PSO round : 17 final objective value : -1.9999994324769437\n",
            "PSO round : 18 final objective value : -1.9999546154430778\n",
            "PSO round : 19 final objective value : -1.9999983431515247\n",
            "PSO round : 20 final objective value : -1.9999957752591504\n",
            "PSO round : 21 final objective value : -1.9998507146954705\n",
            "PSO round : 22 final objective value : -1.9999626134077548\n",
            "PSO round : 23 final objective value : -1.9999981032858694\n",
            "PSO round : 24 final objective value : -1.999988575413942\n",
            "PSO round : 25 final objective value : -1.999976959305788\n",
            "PSO round : 26 final objective value : -1.9999433119375027\n",
            "PSO round : 27 final objective value : -1.9999993202237354\n",
            "PSO round : 28 final objective value : -1.9999998900807454\n",
            "PSO round : 29 final objective value : -1.9999998126627534\n",
            "PSO round : 30 final objective value : -1.9999305569802495\n",
            "averge = -1.9999732443681628 standard deviation 4.6574549093483815e-05\n"
          ]
        }
      ]
    },
    {
      "cell_type": "code",
      "source": [
        "PSO_result"
      ],
      "metadata": {
        "id": "FcT7KCR1x4bv"
      },
      "execution_count": null,
      "outputs": []
    }
  ]
}