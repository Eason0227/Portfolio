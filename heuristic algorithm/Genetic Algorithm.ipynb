{
  "nbformat": 4,
  "nbformat_minor": 0,
  "metadata": {
    "colab": {
      "name": "GA5.ipynb",
      "provenance": [],
      "collapsed_sections": []
    },
    "kernelspec": {
      "name": "python3",
      "display_name": "Python 3"
    },
    "language_info": {
      "name": "python"
    }
  },
  "cells": [
    {
      "cell_type": "code",
      "execution_count": 16,
      "metadata": {
        "id": "dAwcBVDd6Brk"
      },
      "outputs": [],
      "source": [
        "import math\n",
        "import random\n",
        "import numpy as np\n",
        "\n",
        "def obj(x,y): #objective function\n",
        "  value = -(math.cos(math.pi*y))- math.exp(-math.pi*((x-0.5)**2))*(math.sin(math.pi*x)**2)\n",
        "  return value\n",
        "\n",
        "def ini_population(sol_num,pop_size,xbit,ybit):\n",
        "  population = []    \n",
        "  for i in range(sol_num):\n",
        "    tmp1 = []  \n",
        "    for j in range(pop_size-1):\n",
        "      tmp2 = [] \n",
        "      tmp3 = []\n",
        "      for l in range(xbit):\n",
        "        tmp2.append(random.randint(0,1)) #get the x by generate 12 random number of 0 or 1 \n",
        "      for k in range(ybit):\n",
        "        tmp3.append(random.randint(0,1)) #get the x by generate 11 random number of 0 or 1 \n",
        "      tmp1.append(tmp2) #get x chromosome \n",
        "      tmp1.append(tmp3) #combine x and y chromosome\n",
        "    population.append(tmp1) #combine chromosom in a population\n",
        "  return population"
      ]
    },
    {
      "cell_type": "code",
      "source": [
        "'''Convert x and y from binary to decimal'''\n",
        "def translation(population):\n",
        "  population_decimalism = []\n",
        "  for j in range(len(population)):\n",
        "    \n",
        "    totalx=0\n",
        "    for i in range(len(population[0][0])): #Calculate the decimal of x\n",
        "      totalx += population[j][0][i] * (math.pow(2,i))\n",
        "\n",
        "    totaly=0\n",
        "    for k in range(len(population[0][1])): #Calculate the decimal of y\n",
        "      totaly += population[j][1][k] * (math.pow(2,k))\n",
        "\n",
        "    total=[]\n",
        "    total.append(totalx)\n",
        "    total.append(totaly) #Combine the x and y of each group\n",
        "    population_decimalism.append(total) #merge each group\n",
        "  \n",
        "  #Convert the range of x and y to -1≤x≤2 , 4≤y≤6\n",
        "  for i in range(len(population)):\n",
        "    population_decimalism[i][0] = -1 + population_decimalism[i][0]*( 3 / ( (2**12)-1) )\n",
        "    population_decimalism[i][1] = 4 + population_decimalism[i][1]*( 2 / ( (2**11)-1) )\n",
        "  \n",
        "  return population_decimalism"
      ],
      "metadata": {
        "id": "ic74p-ip6Je-"
      },
      "execution_count": 17,
      "outputs": []
    },
    {
      "cell_type": "code",
      "source": [
        "'''Calculate the fitness function value corresponding to each set of chromosomes'''\n",
        "def fitness(population,generation):\n",
        "  fitness = []\n",
        "  population_10 = translation(population) #Convert x and y from binary to decimal\n",
        "  \n",
        "  #put x y into objective function with penalty and caculate fitness value\n",
        "  for i in range(len(population)): \n",
        "    value = obj(population_10[i][0],population_10[i][1])+((0.5*generation)**2)*(abs(5-(population_10[i][0]+population_10[i][1]))**2)\n",
        "    fitness.append(value) \n",
        "  return fitness"
      ],
      "metadata": {
        "id": "RCN6u5y96K7V"
      },
      "execution_count": 18,
      "outputs": []
    },
    {
      "cell_type": "code",
      "source": [
        "'''Use the roulette wheel to select the parent'''\n",
        "def selection(population,fitness_value,parent_number):\n",
        "  pop_len = len(population)\n",
        "\n",
        "  for i in range(pop_len): #plus a constant 3\n",
        "    fitness_value[i] = fitness_value[i]+3\n",
        "  \n",
        "  for i in range(pop_len): # reciprocal\n",
        "    fitness_value[i]=1/fitness_value[i]\n",
        "\n",
        "  total_fitness = sum(fitness_value) #caculate total fittness\n",
        "  \n",
        "  #caculate the probility of a selection pi for each chromosome\n",
        "  new_fitness = []\n",
        "  for i in range(len(fitness_value)): \n",
        "    new_fitness.append( fitness_value[i]/total_fitness )\n",
        "  \n",
        "  #caculate cummulative probility\n",
        "  for i in range(len(new_fitness)-1,-1,-1): # range(start,stop,[step]) \n",
        "    total = 0.0\n",
        "    j=0\n",
        "    while(j<=i):\n",
        "      total += new_fitness[j] \n",
        "      j += 1\n",
        "    new_fitness[i] = total\n",
        "\n",
        "  #roullte wheel method\n",
        "  ms = [] #save random number\n",
        "  for i in range(parent_number): #get n random number between 0 and 1 \n",
        "    ms.append(random.uniform(0,1))\n",
        "  ms.sort() #sort\n",
        "\n",
        "  parents=[]\n",
        "  for j in range(len(ms)): \n",
        "    for i in range(len(population)):\n",
        "      if new_fitness[i] > ms[j]:\n",
        "        parents.append(population[i])\n",
        "        break\n",
        "  \n",
        "  return population"
      ],
      "metadata": {
        "id": "Kahaz2O0AnPM"
      },
      "execution_count": 19,
      "outputs": []
    },
    {
      "cell_type": "code",
      "source": [
        "'''crossover'''\n",
        "def crossover(population,prod_crossover):\n",
        "  pop_len = len(population)\n",
        "  x_bit = len(population[0][0])\n",
        "  y_bit = len(population[0][1])\n",
        "\n",
        "  for i in range(0,pop_len,2): \n",
        "\n",
        "    if (random.random() < prod_crossover): # Generate random numbers between 0 and 1\n",
        "      crossover_point = random.randint(0,len(population[0][0])) \n",
        "      tmp1=[]\n",
        "      tmp2=[]\n",
        "      tmp3=[]\n",
        "      tmp4=[]\n",
        "\n",
        "      # One-point crossover\n",
        "      tmp1.extend(population[i][0][0:crossover_point]) #Parent one's x crossover with parent two's x\n",
        "      tmp1.extend(population[i+1][0][crossover_point:x_bit]) \n",
        "\n",
        "      tmp2.extend(population[i+1][0][0:crossover_point]) #Parent one's x crossover with parent two's x\n",
        "      tmp2.extend(population[i][0][crossover_point:x_bit]) \n",
        "\n",
        "      tmp3.extend(population[i][1][0:crossover_point])  #Parent one's y crossover with parent two's y\n",
        "      tmp3.extend(population[i+1][1][crossover_point:y_bit]) \n",
        "\n",
        "      tmp4.extend(population[i+1][1][0:crossover_point]) #Parent one's y crossover with parent two's y\n",
        "      tmp4.extend(population[i][1][crossover_point:y_bit]) \n",
        "      \n",
        "      population[i][0] = tmp1\n",
        "      population[i+1][0] = tmp2\n",
        "      population[i][1] = tmp3\n",
        "      population[i+1][1] = tmp4\n",
        "\n",
        "      #print('sucessful')\n",
        "    #else:\n",
        "      #print('fail')\n",
        "\n",
        "  return(population)"
      ],
      "metadata": {
        "id": "l2fatUn239PX"
      },
      "execution_count": 20,
      "outputs": []
    },
    {
      "cell_type": "code",
      "source": [
        "'''Mutation'''\n",
        "#One-point Mutation\n",
        "def mutation(population,prob_mutation):\n",
        "  y_bit = len(population[0][1])-1\n",
        "  chrom_len = len(population[0])\n",
        "\n",
        "  for i in range(len(population)):\n",
        "      if (random.random() < prob_mutation): # Generate random numbers between 0 and 1\n",
        "\n",
        "        mutation_point = random.randint(0,y_bit)\n",
        "        for j in range(chrom_len):\n",
        "          #Randomly mutate the mutation_point gene point to 0 or 1\n",
        "          if (population[i][j][mutation_point] == 1):\n",
        "            population[i][j][mutation_point] = 0\n",
        "          else:\n",
        "            population[i][j][mutation_point] = 1\n",
        "          \n",
        "        #print('sucessful')\n",
        "      #else:\n",
        "        #print('fail')\n",
        "\n",
        "  return population"
      ],
      "metadata": {
        "id": "U4VCZP0MHDWE"
      },
      "execution_count": 21,
      "outputs": []
    },
    {
      "cell_type": "code",
      "source": [
        "'''Find the best fitness and the corresponding x, y in the current Population'''\n",
        "def best(population):\n",
        "  pop_len = len(population)\n",
        "  best_x_y,fitness_value = [],[]\n",
        "  best_fitness =100\n",
        "\n",
        "  x_y_10 =translation(population) \n",
        "  for i in range(pop_len):\n",
        "    fitness_value.append( obj( x_y_10[i][0],x_y_10[i][1] ) )#put x and y into objective function\n",
        "\n",
        "  for i in range(pop_len):\n",
        "    if (fitness_value[i] < best_fitness): #Compare the fitness of each set of chromosomes to the best value\n",
        "    #If the fitness of this set of chromosomes < optimal value, replace the optimal solution,and x,y\n",
        "      best_fitness = fitness_value[i]\n",
        "      best_x_y = x_y_10[i]\n",
        "\n",
        "  return best_x_y,best_fitness"
      ],
      "metadata": {
        "id": "N8-SRpw2pp20"
      },
      "execution_count": 22,
      "outputs": []
    },
    {
      "cell_type": "code",
      "source": [
        "import matplotlib.pyplot as plt\n",
        "\n",
        "def plot(results):\n",
        "  X = []\n",
        "  Y = []\n",
        "  for i in range(iter_num):\n",
        "    X.append(i)\n",
        "    Y.append(results[i])\n",
        "  plt.plot(X,Y)\n",
        "  plt.xlabel('Number of iteration',size = 15)\n",
        "  plt.ylabel('fitness value',size = 15)\n",
        "  plt.title('GA convergence history ',size = 15)\n",
        "  plt.show()"
      ],
      "metadata": {
        "id": "dhT3Wdc4FupA"
      },
      "execution_count": 23,
      "outputs": []
    },
    {
      "cell_type": "code",
      "source": [
        "def GA(iter_num,population_size,crossover_rate,mutation_rate,x_bit,y_bit):\n",
        "  results,parameters,best_x_y = [],[],[]\n",
        "  best_fitness = 1000\n",
        "  population = ini_population(population_size,2,x_bit,y_bit)\n",
        "\n",
        "  for i in range(iter_num):\n",
        "    fitness_value = fitness(population,i)\n",
        "    current_x_y , current_fitness = best(population)\n",
        "    # Compared with the previous optimal fitness function value, \n",
        "    # if it is better, replace the optimal fitness function value and corresponding parameters\n",
        "    if current_fitness < best_fitness:\n",
        "      best_fitness = current_fitness\n",
        "      best_x_y = current_x_y\n",
        "    \n",
        "    print('iteration is :',i,'Best x and y:',best_x_y,'Best fitness',best_fitness)\n",
        "    #record the x y value and fitness in every iteration\n",
        "    results.append(best_fitness)\n",
        "    parameters.append(best_x_y)\n",
        "    selection(population,fitness_value,100)\n",
        "    crossover(population,crossover_rate) # crossover parents\n",
        "    mutation(population,mutation_rate) #mutation\n",
        "\n",
        "  print('Final x y are :',parameters[-1],'Final objective value :',best_fitness)\n",
        "  plot(results)\n",
        "  return best_fitness"
      ],
      "metadata": {
        "id": "9LKxjOMrmbt3"
      },
      "execution_count": 26,
      "outputs": []
    },
    {
      "cell_type": "code",
      "source": [
        "iter_num=100\n",
        "crossover_rate=0.9\n",
        "mutation_rate=0.1\n",
        "population_size=100\n",
        "x_bit=12\n",
        "y_bit=11\n",
        "GA(iter_num,population_size,crossover_rate,mutation_rate,x_bit,y_bit)"
      ],
      "metadata": {
        "colab": {
          "base_uri": "https://localhost:8080/",
          "height": 1000
        },
        "id": "CieGcQktRv1L",
        "outputId": "63192f15-28da-47ed-d3b1-e7d97504f27c"
      },
      "execution_count": 27,
      "outputs": [
        {
          "output_type": "stream",
          "name": "stdout",
          "text": [
            "iteration is : 0 Best x and y: [0.6153846153846154, 5.911089399120664] Best fitness -1.7996858797461877\n",
            "iteration is : 1 Best x and y: [0.6153846153846154, 5.911089399120664] Best fitness -1.7996858797461877\n",
            "iteration is : 2 Best x and y: [0.6153846153846154, 5.911089399120664] Best fitness -1.7996858797461877\n",
            "iteration is : 3 Best x and y: [0.6153846153846154, 5.911089399120664] Best fitness -1.7996858797461877\n",
            "iteration is : 4 Best x and y: [0.6153846153846154, 5.911089399120664] Best fitness -1.7996858797461877\n",
            "iteration is : 5 Best x and y: [0.6153846153846154, 5.911089399120664] Best fitness -1.7996858797461877\n",
            "iteration is : 6 Best x and y: [0.6153846153846154, 5.911089399120664] Best fitness -1.7996858797461877\n",
            "iteration is : 7 Best x and y: [0.5084249084249084, 4.093795798729849] Best fitness -1.9559753811534084\n",
            "iteration is : 8 Best x and y: [0.5084249084249084, 4.093795798729849] Best fitness -1.9559753811534084\n",
            "iteration is : 9 Best x and y: [0.5084249084249084, 4.093795798729849] Best fitness -1.9559753811534084\n",
            "iteration is : 10 Best x and y: [0.5084249084249084, 4.093795798729849] Best fitness -1.9559753811534084\n",
            "iteration is : 11 Best x and y: [0.5084249084249084, 4.093795798729849] Best fitness -1.9559753811534084\n",
            "iteration is : 12 Best x and y: [0.5084249084249084, 4.093795798729849] Best fitness -1.9559753811534084\n",
            "iteration is : 13 Best x and y: [0.4842490842490843, 5.950170981924768] Best fitness -1.9845484699436575\n",
            "iteration is : 14 Best x and y: [0.4842490842490843, 5.950170981924768] Best fitness -1.9845484699436575\n",
            "iteration is : 15 Best x and y: [0.4842490842490843, 5.950170981924768] Best fitness -1.9845484699436575\n",
            "iteration is : 16 Best x and y: [0.4842490842490843, 5.950170981924768] Best fitness -1.9845484699436575\n",
            "iteration is : 17 Best x and y: [0.4842490842490843, 5.950170981924768] Best fitness -1.9845484699436575\n",
            "iteration is : 18 Best x and y: [0.4842490842490843, 5.950170981924768] Best fitness -1.9845484699436575\n",
            "iteration is : 19 Best x and y: [0.4842490842490843, 5.950170981924768] Best fitness -1.9845484699436575\n",
            "iteration is : 20 Best x and y: [0.4842490842490843, 5.950170981924768] Best fitness -1.9845484699436575\n",
            "iteration is : 21 Best x and y: [0.4842490842490843, 5.950170981924768] Best fitness -1.9845484699436575\n",
            "iteration is : 22 Best x and y: [0.4842490842490843, 5.950170981924768] Best fitness -1.9845484699436575\n",
            "iteration is : 23 Best x and y: [0.4842490842490843, 5.950170981924768] Best fitness -1.9845484699436575\n",
            "iteration is : 24 Best x and y: [0.4842490842490843, 5.950170981924768] Best fitness -1.9845484699436575\n",
            "iteration is : 25 Best x and y: [0.4842490842490843, 5.950170981924768] Best fitness -1.9845484699436575\n",
            "iteration is : 26 Best x and y: [0.4842490842490843, 5.950170981924768] Best fitness -1.9845484699436575\n",
            "iteration is : 27 Best x and y: [0.4842490842490843, 5.950170981924768] Best fitness -1.9845484699436575\n",
            "iteration is : 28 Best x and y: [0.4842490842490843, 5.950170981924768] Best fitness -1.9845484699436575\n",
            "iteration is : 29 Best x and y: [0.4842490842490843, 5.950170981924768] Best fitness -1.9845484699436575\n",
            "iteration is : 30 Best x and y: [0.4842490842490843, 5.950170981924768] Best fitness -1.9845484699436575\n",
            "iteration is : 31 Best x and y: [0.4842490842490843, 5.950170981924768] Best fitness -1.9845484699436575\n",
            "iteration is : 32 Best x and y: [0.4842490842490843, 5.950170981924768] Best fitness -1.9845484699436575\n",
            "iteration is : 33 Best x and y: [0.4842490842490843, 5.950170981924768] Best fitness -1.9845484699436575\n",
            "iteration is : 34 Best x and y: [0.4842490842490843, 5.950170981924768] Best fitness -1.9845484699436575\n",
            "iteration is : 35 Best x and y: [0.4842490842490843, 5.950170981924768] Best fitness -1.9845484699436575\n",
            "iteration is : 36 Best x and y: [0.4842490842490843, 5.950170981924768] Best fitness -1.9845484699436575\n",
            "iteration is : 37 Best x and y: [0.4842490842490843, 5.950170981924768] Best fitness -1.9845484699436575\n",
            "iteration is : 38 Best x and y: [0.4842490842490843, 5.950170981924768] Best fitness -1.9845484699436575\n",
            "iteration is : 39 Best x and y: [0.4842490842490843, 5.950170981924768] Best fitness -1.9845484699436575\n",
            "iteration is : 40 Best x and y: [0.504029304029304, 6.0] Best fitness -1.9997887774612542\n",
            "iteration is : 41 Best x and y: [0.504029304029304, 6.0] Best fitness -1.9997887774612542\n",
            "iteration is : 42 Best x and y: [0.504029304029304, 6.0] Best fitness -1.9997887774612542\n",
            "iteration is : 43 Best x and y: [0.504029304029304, 6.0] Best fitness -1.9997887774612542\n",
            "iteration is : 44 Best x and y: [0.504029304029304, 6.0] Best fitness -1.9997887774612542\n",
            "iteration is : 45 Best x and y: [0.504029304029304, 6.0] Best fitness -1.9997887774612542\n",
            "iteration is : 46 Best x and y: [0.504029304029304, 6.0] Best fitness -1.9997887774612542\n",
            "iteration is : 47 Best x and y: [0.504029304029304, 6.0] Best fitness -1.9997887774612542\n",
            "iteration is : 48 Best x and y: [0.504029304029304, 6.0] Best fitness -1.9997887774612542\n",
            "iteration is : 49 Best x and y: [0.504029304029304, 6.0] Best fitness -1.9997887774612542\n",
            "iteration is : 50 Best x and y: [0.504029304029304, 6.0] Best fitness -1.9997887774612542\n",
            "iteration is : 51 Best x and y: [0.504029304029304, 6.0] Best fitness -1.9997887774612542\n",
            "iteration is : 52 Best x and y: [0.504029304029304, 6.0] Best fitness -1.9997887774612542\n",
            "iteration is : 53 Best x and y: [0.504029304029304, 6.0] Best fitness -1.9997887774612542\n",
            "iteration is : 54 Best x and y: [0.504029304029304, 6.0] Best fitness -1.9997887774612542\n",
            "iteration is : 55 Best x and y: [0.504029304029304, 6.0] Best fitness -1.9997887774612542\n",
            "iteration is : 56 Best x and y: [0.504029304029304, 6.0] Best fitness -1.9997887774612542\n",
            "iteration is : 57 Best x and y: [0.504029304029304, 6.0] Best fitness -1.9997887774612542\n",
            "iteration is : 58 Best x and y: [0.504029304029304, 6.0] Best fitness -1.9997887774612542\n",
            "iteration is : 59 Best x and y: [0.504029304029304, 6.0] Best fitness -1.9997887774612542\n",
            "iteration is : 60 Best x and y: [0.504029304029304, 6.0] Best fitness -1.9997887774612542\n",
            "iteration is : 61 Best x and y: [0.504029304029304, 6.0] Best fitness -1.9997887774612542\n",
            "iteration is : 62 Best x and y: [0.504029304029304, 6.0] Best fitness -1.9997887774612542\n",
            "iteration is : 63 Best x and y: [0.504029304029304, 6.0] Best fitness -1.9997887774612542\n",
            "iteration is : 64 Best x and y: [0.504029304029304, 6.0] Best fitness -1.9997887774612542\n",
            "iteration is : 65 Best x and y: [0.504029304029304, 6.0] Best fitness -1.9997887774612542\n",
            "iteration is : 66 Best x and y: [0.504029304029304, 6.0] Best fitness -1.9997887774612542\n",
            "iteration is : 67 Best x and y: [0.504029304029304, 6.0] Best fitness -1.9997887774612542\n",
            "iteration is : 68 Best x and y: [0.504029304029304, 6.0] Best fitness -1.9997887774612542\n",
            "iteration is : 69 Best x and y: [0.504029304029304, 6.0] Best fitness -1.9997887774612542\n",
            "iteration is : 70 Best x and y: [0.504029304029304, 6.0] Best fitness -1.9997887774612542\n",
            "iteration is : 71 Best x and y: [0.504029304029304, 6.0] Best fitness -1.9997887774612542\n",
            "iteration is : 72 Best x and y: [0.504029304029304, 6.0] Best fitness -1.9997887774612542\n",
            "iteration is : 73 Best x and y: [0.504029304029304, 6.0] Best fitness -1.9997887774612542\n",
            "iteration is : 74 Best x and y: [0.504029304029304, 6.0] Best fitness -1.9997887774612542\n",
            "iteration is : 75 Best x and y: [0.504029304029304, 6.0] Best fitness -1.9997887774612542\n",
            "iteration is : 76 Best x and y: [0.504029304029304, 6.0] Best fitness -1.9997887774612542\n",
            "iteration is : 77 Best x and y: [0.504029304029304, 6.0] Best fitness -1.9997887774612542\n",
            "iteration is : 78 Best x and y: [0.504029304029304, 6.0] Best fitness -1.9997887774612542\n",
            "iteration is : 79 Best x and y: [0.504029304029304, 6.0] Best fitness -1.9997887774612542\n",
            "iteration is : 80 Best x and y: [0.504029304029304, 6.0] Best fitness -1.9997887774612542\n",
            "iteration is : 81 Best x and y: [0.504029304029304, 6.0] Best fitness -1.9997887774612542\n",
            "iteration is : 82 Best x and y: [0.504029304029304, 6.0] Best fitness -1.9997887774612542\n",
            "iteration is : 83 Best x and y: [0.504029304029304, 6.0] Best fitness -1.9997887774612542\n",
            "iteration is : 84 Best x and y: [0.504029304029304, 6.0] Best fitness -1.9997887774612542\n",
            "iteration is : 85 Best x and y: [0.504029304029304, 6.0] Best fitness -1.9997887774612542\n",
            "iteration is : 86 Best x and y: [0.504029304029304, 6.0] Best fitness -1.9997887774612542\n",
            "iteration is : 87 Best x and y: [0.504029304029304, 6.0] Best fitness -1.9997887774612542\n",
            "iteration is : 88 Best x and y: [0.504029304029304, 6.0] Best fitness -1.9997887774612542\n",
            "iteration is : 89 Best x and y: [0.504029304029304, 6.0] Best fitness -1.9997887774612542\n",
            "iteration is : 90 Best x and y: [0.504029304029304, 6.0] Best fitness -1.9997887774612542\n",
            "iteration is : 91 Best x and y: [0.504029304029304, 6.0] Best fitness -1.9997887774612542\n",
            "iteration is : 92 Best x and y: [0.504029304029304, 6.0] Best fitness -1.9997887774612542\n",
            "iteration is : 93 Best x and y: [0.504029304029304, 6.0] Best fitness -1.9997887774612542\n",
            "iteration is : 94 Best x and y: [0.504029304029304, 6.0] Best fitness -1.9997887774612542\n",
            "iteration is : 95 Best x and y: [0.504029304029304, 6.0] Best fitness -1.9997887774612542\n",
            "iteration is : 96 Best x and y: [0.504029304029304, 6.0] Best fitness -1.9997887774612542\n",
            "iteration is : 97 Best x and y: [0.504029304029304, 6.0] Best fitness -1.9997887774612542\n",
            "iteration is : 98 Best x and y: [0.504029304029304, 6.0] Best fitness -1.9997887774612542\n",
            "iteration is : 99 Best x and y: [0.504029304029304, 6.0] Best fitness -1.9997887774612542\n",
            "Final x y are : [0.504029304029304, 6.0] Final objective value : -1.9997887774612542\n"
          ]
        },
        {
          "output_type": "display_data",
          "data": {
            "text/plain": [
              "<Figure size 432x288 with 1 Axes>"
            ],
            "image/png": "[encoded data removed]"
          },
          "metadata": {
            "needs_background": "light"
          }
        },
        {
          "output_type": "execute_result",
          "data": {
            "text/plain": [
              "-1.9997887774612542"
            ]
          },
          "metadata": {},
          "execution_count": 27
        }
      ]
    },
    {
      "cell_type": "code",
      "source": [
        "def GA2(iter_num,population_size,crossover_rate,mutation_rate,x_bit,y_bit):\n",
        "  results,parameters,best_x_y = [],[],[]\n",
        "  best_fitness = 1000\n",
        "  population = ini_population(population_size,2,x_bit,y_bit)\n",
        "\n",
        "  for i in range(iter_num):\n",
        "    fitness_value = fitness(population,i)\n",
        "    current_x_y , current_fitness = best(population)\n",
        "    # Compared with the previous optimal fitness function value, \n",
        "    # if it is better, replace the optimal fitness function value and corresponding parameters\n",
        "    if current_fitness < best_fitness:\n",
        "      best_fitness = current_fitness\n",
        "      best_x_y = current_x_y\n",
        "    \n",
        "    #print('iteration is :',i,'Best x and y:',best_x_y,'Best fitness',best_fitness)\n",
        "    #record the x y value and fitness in every iteration\n",
        "    results.append(best_fitness)\n",
        "    parameters.append(best_x_y)\n",
        "    selection(population,fitness_value,100)\n",
        "    crossover(population,crossover_rate) # crossover parents\n",
        "    mutation(population,mutation_rate) #mutation\n",
        "\n",
        "  #print('Final x y are :',parameters[-1],'Final objective value :',best_fitness)\n",
        "  return best_fitness"
      ],
      "metadata": {
        "id": "_YAGcC77R3Kv"
      },
      "execution_count": 28,
      "outputs": []
    },
    {
      "cell_type": "code",
      "source": [
        "iter_num=100\n",
        "crossover_rate=0.9\n",
        "mutation_rate=0.1\n",
        "population_size=100\n",
        "x_bit=12\n",
        "y_bit=11\n",
        "GA_result =[]\n",
        "for i in range(30):\n",
        "  result = GA2(iter_num,population_size,crossover_rate,mutation_rate,x_bit,y_bit)\n",
        "  GA_result.append(result)\n",
        "  print('GA round : ',i+1,'final objective value :',result)\n",
        "\n",
        "averge = np.mean(GA_result)\n",
        "std = np.std(GA_result)\n",
        "print('averge =',averge ,'standard deviation',std)"
      ],
      "metadata": {
        "colab": {
          "base_uri": "https://localhost:8080/"
        },
        "id": "ULEWkZCdms5l",
        "outputId": "28b2b4ca-37c0-4df0-e9de-7e64e824b99e"
      },
      "execution_count": 29,
      "outputs": [
        {
          "output_type": "stream",
          "name": "stdout",
          "text": [
            "GA round :  1 final objective value : -1.992112552702932\n",
            "GA round :  2 final objective value : -1.9987290361797818\n",
            "GA round :  3 final objective value : -1.9974817047617908\n",
            "GA round :  4 final objective value : -1.9975222528216041\n",
            "GA round :  5 final objective value : -1.987281194994476\n",
            "GA round :  6 final objective value : -1.9984015388995884\n",
            "GA round :  7 final objective value : -1.999725536028654\n",
            "GA round :  8 final objective value : -1.9935162332485756\n",
            "GA round :  9 final objective value : -1.9934785471974528\n",
            "GA round :  10 final objective value : -1.9867109986275575\n",
            "GA round :  11 final objective value : -1.9966872552546313\n",
            "GA round :  12 final objective value : -1.9942895431406913\n",
            "GA round :  13 final objective value : -1.9962727868016403\n",
            "GA round :  14 final objective value : -1.993091925189655\n",
            "GA round :  15 final objective value : -1.9987279735542351\n",
            "GA round :  16 final objective value : -1.9996548803969625\n",
            "GA round :  17 final objective value : -1.972018006110197\n",
            "GA round :  18 final objective value : -1.9994873018343196\n",
            "GA round :  19 final objective value : -1.9982898488592\n",
            "GA round :  20 final objective value : -1.9974220172902593\n",
            "GA round :  21 final objective value : -1.9979748734542786\n",
            "GA round :  22 final objective value : -1.9914904404771452\n",
            "GA round :  23 final objective value : -1.997907547319317\n",
            "GA round :  24 final objective value : -1.9820119158556626\n",
            "GA round :  25 final objective value : -1.991225619155597\n",
            "GA round :  26 final objective value : -1.989437002280434\n",
            "GA round :  27 final objective value : -1.9982143447964051\n",
            "GA round :  28 final objective value : -1.998446756926997\n",
            "GA round :  29 final objective value : -1.9790721950245387\n",
            "GA round :  30 final objective value : -1.9869802170411948\n",
            "averge = -1.9934554015408588 standard deviation 0.006640277007300755\n"
          ]
        }
      ]
    }
  ]
}